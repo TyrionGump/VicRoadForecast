{
 "cells": [
  {
   "cell_type": "code",
   "execution_count": 1,
   "id": "65731d97",
   "metadata": {},
   "outputs": [],
   "source": [
    "import os\n",
    "import torch\n",
    "from torch import nn\n",
    "from torch import optim\n",
    "import numpy as np\n",
    "import pandas as pd\n",
    "from matplotlib import pyplot as plt\n",
    "from datetime import datetime"
   ]
  },
  {
   "cell_type": "code",
   "execution_count": 2,
   "id": "584aab76",
   "metadata": {},
   "outputs": [],
   "source": [
    "class RNN(nn.Module):\n",
    "    def __init__(self):\n",
    "        super(RNN, self).__init__()\n",
    "        self.rnn = nn.RNN(input_size=1, hidden_size=16, num_layers=1, batch_first=True)\n",
    "        for p in self.rnn.parameters():\n",
    "            nn.init.normal_(p, mean=0.0, std=0.001)\n",
    "        self.linear = nn.Linear(in_features=16, out_features=1)\n",
    "\n",
    "    def forward(self, x, hidden_prev):\n",
    "        out, hidden_prev = self.rnn(x, hidden_prev)\n",
    "        out = out.view(-1, 16)\n",
    "        out = self.linear(out)\n",
    "        out = out.unsqueeze(dim=0)\n",
    "        return out, hidden_prev"
   ]
  },
  {
   "cell_type": "code",
   "execution_count": 3,
   "id": "06892cfe",
   "metadata": {},
   "outputs": [],
   "source": [
    "LINK_2727_PATH = \"../data/MELBOURNE CITY/1005110000-1005230000/raw/2727.csv\""
   ]
  },
  {
   "cell_type": "code",
   "execution_count": 4,
   "id": "f9b1b82f",
   "metadata": {},
   "outputs": [],
   "source": [
    "df_2727 = pd.read_csv(LINK_2727_PATH)"
   ]
  },
  {
   "cell_type": "code",
   "execution_count": 5,
   "id": "83e20007",
   "metadata": {},
   "outputs": [
    {
     "data": {
      "image/png": "[encoded data removed]",
      "text/plain": [
       "<Figure size 432x288 with 1 Axes>"
      ]
     },
     "metadata": {
      "needs_background": "light"
     },
     "output_type": "display_data"
    }
   ],
   "source": [
    "time_stamp = df_2727['TIMESTAMP'].values\n",
    "travel_time = df_2727['TRAVEL_TIME'].values\n",
    "plt.plot(time_stamp, travel_time)\n",
    "plt.show()"
   ]
  },
  {
   "cell_type": "code",
   "execution_count": 6,
   "id": "7d7b11d7",
   "metadata": {},
   "outputs": [
    {
     "data": {
      "text/html": [
       "<div>\n",
       "<style scoped>\n",
       "    .dataframe tbody tr th:only-of-type {\n",
       "        vertical-align: middle;\n",
       "    }\n",
       "\n",
       "    .dataframe tbody tr th {\n",
       "        vertical-align: top;\n",
       "    }\n",
       "\n",
       "    .dataframe thead th {\n",
       "        text-align: right;\n",
       "    }\n",
       "</style>\n",
       "<table border=\"1\" class=\"dataframe\">\n",
       "  <thead>\n",
       "    <tr style=\"text-align: right;\">\n",
       "      <th></th>\n",
       "      <th>ID</th>\n",
       "      <th>TRAVEL_TIME</th>\n",
       "      <th>DENSITY</th>\n",
       "      <th>TIMESTAMP</th>\n",
       "    </tr>\n",
       "  </thead>\n",
       "  <tbody>\n",
       "    <tr>\n",
       "      <th>0</th>\n",
       "      <td>2727</td>\n",
       "      <td>504</td>\n",
       "      <td>895</td>\n",
       "      <td>1633392000</td>\n",
       "    </tr>\n",
       "    <tr>\n",
       "      <th>1</th>\n",
       "      <td>2727</td>\n",
       "      <td>504</td>\n",
       "      <td>925</td>\n",
       "      <td>1633392030</td>\n",
       "    </tr>\n",
       "    <tr>\n",
       "      <th>2</th>\n",
       "      <td>2727</td>\n",
       "      <td>504</td>\n",
       "      <td>955</td>\n",
       "      <td>1633392060</td>\n",
       "    </tr>\n",
       "    <tr>\n",
       "      <th>3</th>\n",
       "      <td>2727</td>\n",
       "      <td>504</td>\n",
       "      <td>985</td>\n",
       "      <td>1633392090</td>\n",
       "    </tr>\n",
       "    <tr>\n",
       "      <th>4</th>\n",
       "      <td>2727</td>\n",
       "      <td>504</td>\n",
       "      <td>1015</td>\n",
       "      <td>1633392120</td>\n",
       "    </tr>\n",
       "  </tbody>\n",
       "</table>\n",
       "</div>"
      ],
      "text/plain": [
       "     ID  TRAVEL_TIME  DENSITY   TIMESTAMP\n",
       "0  2727          504      895  1633392000\n",
       "1  2727          504      925  1633392030\n",
       "2  2727          504      955  1633392060\n",
       "3  2727          504      985  1633392090\n",
       "4  2727          504     1015  1633392120"
      ]
     },
     "execution_count": 6,
     "metadata": {},
     "output_type": "execute_result"
    }
   ],
   "source": [
    "df_2727.head(5)"
   ]
  },
  {
   "cell_type": "code",
   "execution_count": 7,
   "id": "ae3040e5",
   "metadata": {},
   "outputs": [],
   "source": [
    "num_time_steps = 50\n",
    "x = []\n",
    "y_true = []\n",
    "for i in range(0, len(travel_time)):\n",
    "    if i+num_time_steps+1 > len(travel_time):\n",
    "        break\n",
    "    x.append(travel_time[i:i+num_time_steps])\n",
    "    y_true.append(travel_time[i+1:i+num_time_steps+1])"
   ]
  },
  {
   "cell_type": "code",
   "execution_count": 8,
   "id": "16cfbe76",
   "metadata": {},
   "outputs": [],
   "source": [
    "from sklearn.preprocessing import StandardScaler\n",
    "s = StandardScaler()\n",
    "x = s.fit_transform(x)"
   ]
  },
  {
   "cell_type": "code",
   "execution_count": 9,
   "id": "24d40052",
   "metadata": {},
   "outputs": [],
   "source": [
    "x = torch.tensor(x).float().view(len(x), 1, num_time_steps, 1)\n",
    "y = torch.tensor(y_true).float().view(len(y_true), 1, num_time_steps, 1)"
   ]
  },
  {
   "cell_type": "code",
   "execution_count": 10,
   "id": "59b9fca7",
   "metadata": {},
   "outputs": [
    {
     "name": "stdout",
     "output_type": "stream",
     "text": [
      "torch.Size([1390, 1, 50, 1])\n"
     ]
    }
   ],
   "source": [
    "print(x.shape)"
   ]
  },
  {
   "cell_type": "code",
   "execution_count": 11,
   "id": "60c4da9b",
   "metadata": {},
   "outputs": [
    {
     "name": "stdout",
     "output_type": "stream",
     "text": [
      "iteration: 0 loss 23235.357421875\n",
      "iteration: 10 loss 0.904041588306427\n",
      "iteration: 20 loss 0.1785103976726532\n",
      "iteration: 30 loss 0.035623494535684586\n",
      "iteration: 40 loss 0.2792937457561493\n",
      "iteration: 50 loss 0.5897330641746521\n",
      "iteration: 60 loss 0.18973277509212494\n",
      "iteration: 70 loss 0.025838211178779602\n",
      "iteration: 80 loss 0.01918591931462288\n",
      "iteration: 90 loss 0.022501878440380096\n"
     ]
    }
   ],
   "source": [
    "model = RNN()\n",
    "criterion = nn.MSELoss()\n",
    "optimizer = optim.Adam(model.parameters(), lr=0.01)\n",
    "hidden_prev = torch.zeros(1, 1, 16)\n",
    "for iter in range(100):\n",
    "    for i in range(x.shape[0]):\n",
    "        output, hidden_prev = model(x[i], hidden_prev)\n",
    "        hidden_prev = hidden_prev.detach()\n",
    "        loss = criterion(output, y[i])\n",
    "        model.zero_grad()\n",
    "        loss.backward()\n",
    "        optimizer.step()\n",
    "    if iter % 10 == 0:\n",
    "        print(\"iteration: {} loss {}\".format(iter, loss.item()))"
   ]
  },
  {
   "cell_type": "code",
   "execution_count": 12,
   "id": "798959b6",
   "metadata": {},
   "outputs": [],
   "source": [
    "preds = []\n",
    "for i in range(x.shape[0]):\n",
    "    output, hidden_prev = model(x[i], hidden_prev)\n",
    "    preds.append(output.detach().numpy().ravel()[-1])\n",
    "    \n",
    "    "
   ]
  },
  {
   "cell_type": "code",
   "execution_count": 13,
   "id": "c034983c",
   "metadata": {},
   "outputs": [
    {
     "data": {
      "image/png": "[encoded data removed]",
      "text/plain": [
       "<Figure size 432x288 with 1 Axes>"
      ]
     },
     "metadata": {
      "needs_background": "light"
     },
     "output_type": "display_data"
    }
   ],
   "source": [
    "time_stamp_pred = [time_stamp[i+num_time_steps] for i in range(len(time_stamp)) if i + num_time_steps < len(time_stamp)]\n",
    "\n",
    "plt.plot(time_stamp, travel_time)\n",
    "plt.scatter(time_stamp_pred, preds, color='red', s=0.5)\n",
    "plt.show()"
   ]
  },
  {
   "cell_type": "code",
   "execution_count": 14,
   "id": "38dc618a",
   "metadata": {},
   "outputs": [
    {
     "name": "stdout",
     "output_type": "stream",
     "text": [
      "443.5915527566376\n"
     ]
    }
   ],
   "source": [
    "from sklearn.metrics import mean_squared_error\n",
    "y_true_2 = [i[-1] for i in y_true]\n",
    "print(mean_squared_error(y_true=y_true_2, y_pred=preds))"
   ]
  },
  {
   "cell_type": "code",
   "execution_count": null,
   "id": "46efe2e1",
   "metadata": {},
   "outputs": [],
   "source": []
  }
 ],
 "metadata": {
  "kernelspec": {
   "display_name": "Python 3 (ipykernel)",
   "language": "python",
   "name": "python3"
  },
  "language_info": {
   "codemirror_mode": {
    "name": "ipython",
    "version": 3
   },
   "file_extension": ".py",
   "mimetype": "text/x-python",
   "name": "python",
   "nbconvert_exporter": "python",
   "pygments_lexer": "ipython3",
   "version": "3.8.10"
  },
  "toc": {
   "base_numbering": 1,
   "nav_menu": {},
   "number_sections": true,
   "sideBar": true,
   "skip_h1_title": false,
   "title_cell": "Table of Contents",
   "title_sidebar": "Contents",
   "toc_cell": false,
   "toc_position": {},
   "toc_section_display": true,
   "toc_window_display": false
  }
 },
 "nbformat": 4,
 "nbformat_minor": 5
}
